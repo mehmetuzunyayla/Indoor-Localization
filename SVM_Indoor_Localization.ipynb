{
  "nbformat": 4,
  "nbformat_minor": 0,
  "metadata": {
    "colab": {
      "provenance": [],
      "collapsed_sections": [
        "NxL7vDA1KlpN",
        "-WSI9iQbtvDs"
      ]
    },
    "kernelspec": {
      "name": "python3",
      "display_name": "Python 3"
    },
    "language_info": {
      "name": "python"
    }
  },
  "cells": [
    {
      "cell_type": "markdown",
      "source": [
        "In SVM , There is two method to take multioutput results. First one is to train the models separately and second one is use the \"MultiOutputRegressor\", but the second way is too slow. That's why I decided to move with the First method."
      ],
      "metadata": {
        "id": "V49RMxG46uuv"
      }
    },
    {
      "cell_type": "markdown",
      "metadata": {
        "id": "NxL7vDA1KlpN"
      },
      "source": [
        "# First Dataset\n"
      ]
    },
    {
      "cell_type": "code",
      "execution_count": null,
      "metadata": {
        "id": "GD-P3KtxKkcR"
      },
      "outputs": [],
      "source": [
        "import pandas as pd\n",
        "import numpy as np\n",
        "from sklearn import svm\n",
        "from sklearn.model_selection import train_test_split\n",
        "from sklearn.preprocessing import StandardScaler\n",
        "from sklearn.metrics import *"
      ]
    },
    {
      "cell_type": "code",
      "execution_count": null,
      "metadata": {
        "id": "lEBNg_7pKu6J"
      },
      "outputs": [],
      "source": [
        "#reading dataset and assign to variables\n",
        "train_data = pd.read_csv('/content/UTS_training.csv')\n",
        "test_data = pd.read_csv('/content/UTS_test.csv')"
      ]
    },
    {
      "cell_type": "code",
      "execution_count": null,
      "metadata": {
        "id": "hTA5sdMsLGfR"
      },
      "outputs": [],
      "source": [
        "#For train set,For this situations we are makin some preprocessing on dataset but for this project I did not.\n",
        "train_data = train_data.drop(['User_ID','Building_ID','Phone_type','Time'],axis=1)\n",
        "\n",
        "X_train = train_data.drop(['Pos_x','Pos_y'],axis=1)\n",
        "y_train = train_data[['Pos_x','Pos_y']]"
      ]
    },
    {
      "cell_type": "code",
      "execution_count": null,
      "metadata": {
        "id": "UUmxfBRwLnwW"
      },
      "outputs": [],
      "source": [
        "#For test set, No preprocess and assign the Dependent and Independent variables\n",
        "test_data = test_data.drop(['User_ID','Building_ID','Phone_type',\"Time\"],axis=1)\n",
        "\n",
        "X_test = test_data.drop(['Pos_x','Pos_y'],axis=1)\n",
        "y_test = test_data[['Pos_x','Pos_y']]"
      ]
    },
    {
      "cell_type": "code",
      "execution_count": null,
      "metadata": {
        "id": "nag3pLfeLlBC"
      },
      "outputs": [],
      "source": [
        "#Standardize the data\n",
        "scaler = StandardScaler()\n",
        "\n",
        "X_train_scaled = scaler.fit_transform(X_train)\n",
        "X_test_scaled = scaler.transform(X_test)"
      ]
    },
    {
      "cell_type": "code",
      "execution_count": null,
      "metadata": {
        "id": "8S6Zb2EgPe81",
        "colab": {
          "base_uri": "https://localhost:8080/",
          "height": 74
        },
        "outputId": "e7d768a0-5f07-40e5-aee9-91f2629a9352"
      },
      "outputs": [
        {
          "output_type": "execute_result",
          "data": {
            "text/plain": [
              "SVR(kernel='linear')"
            ],
            "text/html": [
              "<style>#sk-container-id-1 {color: black;background-color: white;}#sk-container-id-1 pre{padding: 0;}#sk-container-id-1 div.sk-toggleable {background-color: white;}#sk-container-id-1 label.sk-toggleable__label {cursor: pointer;display: block;width: 100%;margin-bottom: 0;padding: 0.3em;box-sizing: border-box;text-align: center;}#sk-container-id-1 label.sk-toggleable__label-arrow:before {content: \"▸\";float: left;margin-right: 0.25em;color: #696969;}#sk-container-id-1 label.sk-toggleable__label-arrow:hover:before {color: black;}#sk-container-id-1 div.sk-estimator:hover label.sk-toggleable__label-arrow:before {color: black;}#sk-container-id-1 div.sk-toggleable__content {max-height: 0;max-width: 0;overflow: hidden;text-align: left;background-color: #f0f8ff;}#sk-container-id-1 div.sk-toggleable__content pre {margin: 0.2em;color: black;border-radius: 0.25em;background-color: #f0f8ff;}#sk-container-id-1 input.sk-toggleable__control:checked~div.sk-toggleable__content {max-height: 200px;max-width: 100%;overflow: auto;}#sk-container-id-1 input.sk-toggleable__control:checked~label.sk-toggleable__label-arrow:before {content: \"▾\";}#sk-container-id-1 div.sk-estimator input.sk-toggleable__control:checked~label.sk-toggleable__label {background-color: #d4ebff;}#sk-container-id-1 div.sk-label input.sk-toggleable__control:checked~label.sk-toggleable__label {background-color: #d4ebff;}#sk-container-id-1 input.sk-hidden--visually {border: 0;clip: rect(1px 1px 1px 1px);clip: rect(1px, 1px, 1px, 1px);height: 1px;margin: -1px;overflow: hidden;padding: 0;position: absolute;width: 1px;}#sk-container-id-1 div.sk-estimator {font-family: monospace;background-color: #f0f8ff;border: 1px dotted black;border-radius: 0.25em;box-sizing: border-box;margin-bottom: 0.5em;}#sk-container-id-1 div.sk-estimator:hover {background-color: #d4ebff;}#sk-container-id-1 div.sk-parallel-item::after {content: \"\";width: 100%;border-bottom: 1px solid gray;flex-grow: 1;}#sk-container-id-1 div.sk-label:hover label.sk-toggleable__label {background-color: #d4ebff;}#sk-container-id-1 div.sk-serial::before {content: \"\";position: absolute;border-left: 1px solid gray;box-sizing: border-box;top: 0;bottom: 0;left: 50%;z-index: 0;}#sk-container-id-1 div.sk-serial {display: flex;flex-direction: column;align-items: center;background-color: white;padding-right: 0.2em;padding-left: 0.2em;position: relative;}#sk-container-id-1 div.sk-item {position: relative;z-index: 1;}#sk-container-id-1 div.sk-parallel {display: flex;align-items: stretch;justify-content: center;background-color: white;position: relative;}#sk-container-id-1 div.sk-item::before, #sk-container-id-1 div.sk-parallel-item::before {content: \"\";position: absolute;border-left: 1px solid gray;box-sizing: border-box;top: 0;bottom: 0;left: 50%;z-index: -1;}#sk-container-id-1 div.sk-parallel-item {display: flex;flex-direction: column;z-index: 1;position: relative;background-color: white;}#sk-container-id-1 div.sk-parallel-item:first-child::after {align-self: flex-end;width: 50%;}#sk-container-id-1 div.sk-parallel-item:last-child::after {align-self: flex-start;width: 50%;}#sk-container-id-1 div.sk-parallel-item:only-child::after {width: 0;}#sk-container-id-1 div.sk-dashed-wrapped {border: 1px dashed gray;margin: 0 0.4em 0.5em 0.4em;box-sizing: border-box;padding-bottom: 0.4em;background-color: white;}#sk-container-id-1 div.sk-label label {font-family: monospace;font-weight: bold;display: inline-block;line-height: 1.2em;}#sk-container-id-1 div.sk-label-container {text-align: center;}#sk-container-id-1 div.sk-container {/* jupyter's `normalize.less` sets `[hidden] { display: none; }` but bootstrap.min.css set `[hidden] { display: none !important; }` so we also need the `!important` here to be able to override the default hidden behavior on the sphinx rendered scikit-learn.org. See: https://github.com/scikit-learn/scikit-learn/issues/21755 */display: inline-block !important;position: relative;}#sk-container-id-1 div.sk-text-repr-fallback {display: none;}</style><div id=\"sk-container-id-1\" class=\"sk-top-container\"><div class=\"sk-text-repr-fallback\"><pre>SVR(kernel=&#x27;linear&#x27;)</pre><b>In a Jupyter environment, please rerun this cell to show the HTML representation or trust the notebook. <br />On GitHub, the HTML representation is unable to render, please try loading this page with nbviewer.org.</b></div><div class=\"sk-container\" hidden><div class=\"sk-item\"><div class=\"sk-estimator sk-toggleable\"><input class=\"sk-toggleable__control sk-hidden--visually\" id=\"sk-estimator-id-1\" type=\"checkbox\" checked><label for=\"sk-estimator-id-1\" class=\"sk-toggleable__label sk-toggleable__label-arrow\">SVR</label><div class=\"sk-toggleable__content\"><pre>SVR(kernel=&#x27;linear&#x27;)</pre></div></div></div></div></div>"
            ]
          },
          "metadata": {},
          "execution_count": 6
        }
      ],
      "source": [
        "# # Train the SVM model for longitude\n",
        "clf_Pos_x = svm.SVR(kernel='linear')\n",
        "clf_Pos_x.fit(X_train_scaled, y_train['Pos_x'])\n",
        "\n",
        "# # Train the SVM model for latitude\n",
        "clf_Pos_y = svm.SVR(kernel='linear')\n",
        "clf_Pos_y.fit(X_train_scaled, y_train['Pos_y'])"
      ]
    },
    {
      "cell_type": "code",
      "execution_count": null,
      "metadata": {
        "id": "oIX_1LZrPe3y"
      },
      "outputs": [],
      "source": [
        "# # Make predictions on the testing set for both longitude and latitude\n",
        "y_pred_Pos_x = clf_Pos_x.predict(X_test_scaled)\n",
        "y_pred_Pos_y = clf_Pos_y.predict(X_test_scaled)"
      ]
    },
    {
      "cell_type": "code",
      "source": [
        "# # Evaluate the performance using mean squared error (MSE) for both longitude and latitude\n",
        "mse_Pos_X = mean_squared_error(y_test['Pos_x'], y_pred_Pos_x)\n",
        "mse_Pos_y = mean_squared_error(y_test['Pos_y'], y_pred_Pos_y)\n",
        "\n",
        "mae_Pos_X = mean_absolute_error(y_test['Pos_x'], y_pred_Pos_x)\n",
        "mae_Pos_y = mean_absolute_error(y_test['Pos_y'], y_pred_Pos_y)\n",
        "\n",
        "r2_Pos_X = r2_score(y_test['Pos_x'], y_pred_Pos_x)\n",
        "r2_Pos_y = r2_score(y_test['Pos_y'], y_pred_Pos_y)\n",
        "\n",
        "print(\"Metrics for Pos_x = \",mse_Pos_X,mae_Pos_X,r2_Pos_X)\n",
        "print(\"Metrics for Pos_y = \",mse_Pos_y,mae_Pos_y,r2_Pos_y)"
      ],
      "metadata": {
        "id": "OhvsznQtor0L",
        "colab": {
          "base_uri": "https://localhost:8080/"
        },
        "outputId": "1ef000cd-45bd-4756-98fa-b05236229c79"
      },
      "execution_count": null,
      "outputs": [
        {
          "output_type": "stream",
          "name": "stdout",
          "text": [
            "Metrics for Pos_x =  288.3467667987655 12.688556788122893 0.2561383693433289\n",
            "Metrics for Pos_y =  43.31599687551003 4.928174646296584 -0.6755173853587495\n"
          ]
        }
      ]
    },
    {
      "cell_type": "markdown",
      "source": [
        "#Second Dataset"
      ],
      "metadata": {
        "id": "-WSI9iQbtvDs"
      }
    },
    {
      "cell_type": "code",
      "source": [
        "import pandas as pd\n",
        "import numpy as np\n",
        "from sklearn import svm\n",
        "from sklearn.model_selection import train_test_split\n",
        "from sklearn.preprocessing import StandardScaler\n",
        "from sklearn.metrics import *"
      ],
      "metadata": {
        "id": "iH6vykGLt14q"
      },
      "execution_count": null,
      "outputs": []
    },
    {
      "cell_type": "code",
      "source": [
        "#reading dataset and assign to variables\n",
        "train_data = pd.read_csv(\"/contentTrainingData.csv\")\n",
        "test_data = pd.read_csv(\"/content/ValidationData.csv\")"
      ],
      "metadata": {
        "id": "7UowpcWLt118"
      },
      "execution_count": null,
      "outputs": []
    },
    {
      "cell_type": "code",
      "source": [
        "#For train set, No preprocess and assign the Dependent and Independent variables\n",
        "X_train = train_data.drop([\"LONGITUDE\",\"LATITUDE\"],axis=1)\n",
        "y_train = train_data[[\"LONGITUDE\",\"LATITUDE\"]]"
      ],
      "metadata": {
        "id": "RlUrYPFvt1zE"
      },
      "execution_count": null,
      "outputs": []
    },
    {
      "cell_type": "code",
      "source": [
        "#For test set, No preprocess and assign the Dependent and Independent variables\n",
        "X_test = test_data.drop([\"LONGITUDE\",\"LATITUDE\"],axis=1)\n",
        "y_test = test_data[[\"LONGITUDE\",\"LATITUDE\"]]"
      ],
      "metadata": {
        "id": "S2u1r6mXt1u5"
      },
      "execution_count": null,
      "outputs": []
    },
    {
      "cell_type": "code",
      "source": [
        "#Standardize the data\n",
        "scaler = StandardScaler()\n",
        "\n",
        "X_train_scaled = scaler.fit_transform(X_train)\n",
        "X_test_scaled = scaler.transform(X_test)"
      ],
      "metadata": {
        "id": "B6DllIsdt1lQ"
      },
      "execution_count": null,
      "outputs": []
    },
    {
      "cell_type": "code",
      "source": [
        "# Train the SVM model for longitude\n",
        "clf_LONGITUDE = svm.SVR(kernel='linear')\n",
        "clf_LONGITUDE.fit(X_train_scaled, y_train['LONGITUDE'])\n",
        "\n",
        "# Train the SVM model for latitude\n",
        "clf_LATITUDE = svm.SVR(kernel='linear')\n",
        "clf_LATITUDE.fit(X_train_scaled, y_train['LATITUDE'])"
      ],
      "metadata": {
        "colab": {
          "base_uri": "https://localhost:8080/",
          "height": 74
        },
        "id": "0HZkBkpst1iV",
        "outputId": "bc8e1322-d162-474a-97d4-dfb66784b542"
      },
      "execution_count": null,
      "outputs": [
        {
          "output_type": "execute_result",
          "data": {
            "text/plain": [
              "SVR(kernel='linear')"
            ],
            "text/html": [
              "<style>#sk-container-id-3 {color: black;background-color: white;}#sk-container-id-3 pre{padding: 0;}#sk-container-id-3 div.sk-toggleable {background-color: white;}#sk-container-id-3 label.sk-toggleable__label {cursor: pointer;display: block;width: 100%;margin-bottom: 0;padding: 0.3em;box-sizing: border-box;text-align: center;}#sk-container-id-3 label.sk-toggleable__label-arrow:before {content: \"▸\";float: left;margin-right: 0.25em;color: #696969;}#sk-container-id-3 label.sk-toggleable__label-arrow:hover:before {color: black;}#sk-container-id-3 div.sk-estimator:hover label.sk-toggleable__label-arrow:before {color: black;}#sk-container-id-3 div.sk-toggleable__content {max-height: 0;max-width: 0;overflow: hidden;text-align: left;background-color: #f0f8ff;}#sk-container-id-3 div.sk-toggleable__content pre {margin: 0.2em;color: black;border-radius: 0.25em;background-color: #f0f8ff;}#sk-container-id-3 input.sk-toggleable__control:checked~div.sk-toggleable__content {max-height: 200px;max-width: 100%;overflow: auto;}#sk-container-id-3 input.sk-toggleable__control:checked~label.sk-toggleable__label-arrow:before {content: \"▾\";}#sk-container-id-3 div.sk-estimator input.sk-toggleable__control:checked~label.sk-toggleable__label {background-color: #d4ebff;}#sk-container-id-3 div.sk-label input.sk-toggleable__control:checked~label.sk-toggleable__label {background-color: #d4ebff;}#sk-container-id-3 input.sk-hidden--visually {border: 0;clip: rect(1px 1px 1px 1px);clip: rect(1px, 1px, 1px, 1px);height: 1px;margin: -1px;overflow: hidden;padding: 0;position: absolute;width: 1px;}#sk-container-id-3 div.sk-estimator {font-family: monospace;background-color: #f0f8ff;border: 1px dotted black;border-radius: 0.25em;box-sizing: border-box;margin-bottom: 0.5em;}#sk-container-id-3 div.sk-estimator:hover {background-color: #d4ebff;}#sk-container-id-3 div.sk-parallel-item::after {content: \"\";width: 100%;border-bottom: 1px solid gray;flex-grow: 1;}#sk-container-id-3 div.sk-label:hover label.sk-toggleable__label {background-color: #d4ebff;}#sk-container-id-3 div.sk-serial::before {content: \"\";position: absolute;border-left: 1px solid gray;box-sizing: border-box;top: 0;bottom: 0;left: 50%;z-index: 0;}#sk-container-id-3 div.sk-serial {display: flex;flex-direction: column;align-items: center;background-color: white;padding-right: 0.2em;padding-left: 0.2em;position: relative;}#sk-container-id-3 div.sk-item {position: relative;z-index: 1;}#sk-container-id-3 div.sk-parallel {display: flex;align-items: stretch;justify-content: center;background-color: white;position: relative;}#sk-container-id-3 div.sk-item::before, #sk-container-id-3 div.sk-parallel-item::before {content: \"\";position: absolute;border-left: 1px solid gray;box-sizing: border-box;top: 0;bottom: 0;left: 50%;z-index: -1;}#sk-container-id-3 div.sk-parallel-item {display: flex;flex-direction: column;z-index: 1;position: relative;background-color: white;}#sk-container-id-3 div.sk-parallel-item:first-child::after {align-self: flex-end;width: 50%;}#sk-container-id-3 div.sk-parallel-item:last-child::after {align-self: flex-start;width: 50%;}#sk-container-id-3 div.sk-parallel-item:only-child::after {width: 0;}#sk-container-id-3 div.sk-dashed-wrapped {border: 1px dashed gray;margin: 0 0.4em 0.5em 0.4em;box-sizing: border-box;padding-bottom: 0.4em;background-color: white;}#sk-container-id-3 div.sk-label label {font-family: monospace;font-weight: bold;display: inline-block;line-height: 1.2em;}#sk-container-id-3 div.sk-label-container {text-align: center;}#sk-container-id-3 div.sk-container {/* jupyter's `normalize.less` sets `[hidden] { display: none; }` but bootstrap.min.css set `[hidden] { display: none !important; }` so we also need the `!important` here to be able to override the default hidden behavior on the sphinx rendered scikit-learn.org. See: https://github.com/scikit-learn/scikit-learn/issues/21755 */display: inline-block !important;position: relative;}#sk-container-id-3 div.sk-text-repr-fallback {display: none;}</style><div id=\"sk-container-id-3\" class=\"sk-top-container\"><div class=\"sk-text-repr-fallback\"><pre>SVR(kernel=&#x27;linear&#x27;)</pre><b>In a Jupyter environment, please rerun this cell to show the HTML representation or trust the notebook. <br />On GitHub, the HTML representation is unable to render, please try loading this page with nbviewer.org.</b></div><div class=\"sk-container\" hidden><div class=\"sk-item\"><div class=\"sk-estimator sk-toggleable\"><input class=\"sk-toggleable__control sk-hidden--visually\" id=\"sk-estimator-id-3\" type=\"checkbox\" checked><label for=\"sk-estimator-id-3\" class=\"sk-toggleable__label sk-toggleable__label-arrow\">SVR</label><div class=\"sk-toggleable__content\"><pre>SVR(kernel=&#x27;linear&#x27;)</pre></div></div></div></div></div>"
            ]
          },
          "metadata": {},
          "execution_count": 30
        }
      ]
    },
    {
      "cell_type": "code",
      "source": [
        "# Make predictions on the testing set for both longitude and latitude\n",
        "y_pred_LONGITUDE = clf_LONGITUDE.predict(X_test_scaled)\n",
        "y_pred_LATITUDE = clf_LATITUDE.predict(X_test_scaled)"
      ],
      "metadata": {
        "id": "HubrVtyRzaaX"
      },
      "execution_count": null,
      "outputs": []
    },
    {
      "cell_type": "code",
      "source": [
        "# Evaluate the performance using mean squared error (MSE) for both longitude and latitude\n",
        "\n",
        "mse_LONGITUDE = mean_squared_error(y_test['LONGITUDE'], y_pred_LONGITUDE)\n",
        "mse_LATITUDE = mean_squared_error(y_test['LATITUDE'], y_pred_LATITUDE)\n",
        "\n",
        "mae_LONGITUDE = mean_absolute_error(y_test['LONGITUDE'], y_pred_LONGITUDE)\n",
        "mae_LATITUDE = mean_absolute_error(y_test['LATITUDE'], y_pred_LATITUDE)\n",
        "\n",
        "r2_LONGITUDE = r2_score(y_test['LONGITUDE'], y_pred_LONGITUDE)\n",
        "r2_LATITUDE = r2_score(y_test['LATITUDE'], y_pred_LATITUDE)\n",
        "\n",
        "print(\"Metrics for LONGITUDE = \",mse_LONGITUDE,mae_LONGITUDE,r2_LONGITUDE)\n",
        "print(\"Metrics for LATITUDE = \",mse_LATITUDE,mae_LATITUDE,r2_LATITUDE)"
      ],
      "metadata": {
        "colab": {
          "base_uri": "https://localhost:8080/"
        },
        "id": "3pv16_l0zaQN",
        "outputId": "fa3158d9-f168-4653-bbbc-ffdf518151df"
      },
      "execution_count": null,
      "outputs": [
        {
          "output_type": "stream",
          "name": "stdout",
          "text": [
            "Metrics for LONGITUDE =  12087.050896905737 108.30841264345175 0.16278878920082163\n",
            "Metrics for LATITUDE =  1786.902810007531 37.1738909094374 0.6378258052731052\n"
          ]
        }
      ]
    },
    {
      "cell_type": "markdown",
      "source": [
        "# Evaluation levels of metrics\n",
        "\n",
        "MSE = Closest one to 0 is the best\n",
        "\n",
        "R2 = If the value of the R2 is 1, it means that the model is perfect\n",
        "and if its value is 0 its not good\n",
        "\n",
        "EVS = Best possible score is 1.0, lower values are worse."
      ],
      "metadata": {
        "id": "Rm13W6eoiJmd"
      }
    }
  ]
}